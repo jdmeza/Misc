{
 "cells": [
  {
   "cell_type": "markdown",
   "metadata": {},
   "source": [
    "# LLT Code"
   ]
  },
  {
   "cell_type": "markdown",
   "metadata": {},
   "source": [
    "### Global Variables\n",
    "I compute LLT polynomials with a fixed number of variables. If you want infinitely many variables, you should set **nvar** to some big number (the sum of the lengths of all the shapes should suffice). This might slow things down, I haven't tested it..."
   ]
  },
  {
   "cell_type": "code",
   "execution_count": 22,
   "metadata": {},
   "outputs": [
    {
     "name": "stdout",
     "output_type": "stream",
     "text": [
      "Defining t\n",
      "Defining x1, x2, x3, x4\n"
     ]
    }
   ],
   "source": [
    "from itertools import product\n",
    "\n",
    "F = QQ['t']\n",
    "K = FractionField(F)\n",
    "Sym = SymmetricFunctions(K)\n",
    "nvar = 4 # number of variables\n",
    "x_var_symbols = var(*['x{0}'.format(i) for i in range(1, nvar+1)])\n",
    "if nvar == 1:\n",
    "    x_var_symbols = (x_var_symbols, )\n",
    "R = LaurentPolynomialRing(K, x_var_symbols, nvar, order='lex')\n",
    "s = Sym.schur()\n",
    "K.inject_variables()\n",
    "R.inject_variables()"
   ]
  },
  {
   "cell_type": "code",
   "execution_count": 23,
   "metadata": {},
   "outputs": [],
   "source": [
    "def pad(p, n):\n",
    "    ''' Return list of length n with padded 0's if necessary.\n",
    "        \n",
    "        Input:\n",
    "            - ``p`` -- A Partition or list of integers.\n",
    "    '''\n",
    "    return p + [0 for i in xrange(n-len(p))]\n",
    "\n",
    "def to_sym(poly, lengths=nvar):\n",
    "    ''' Return symmetric polynomial ``poly`` in Schur basis, with number of parts <= ``lengths``. \n",
    "        \n",
    "        Input:\n",
    "            - ``poly`` -- an element of LaurentPolynomialRing.\n",
    "        \n",
    "        Warning:\n",
    "            - Doesn't check input is symmetric\n",
    "    '''\n",
    "    return s.from_polynomial(poly, check=False).restrict_partition_lengths(lengths, exact=False)\n",
    "\n",
    "def _inversion_pairs_from_position(mst, k, ij):\n",
    "    ''' Return the number of inversions at the cell position `(i,j)` in the\n",
    "        ``k``-th tableaux in ``mst``.\n",
    "        \n",
    "        Auxiliary function to compute inversion pairs. \n",
    "        Needed to rewrite this because there was an error in the Sage code.\n",
    "    '''\n",
    "    pk = k\n",
    "    pi,pj = ij\n",
    "    c = pj - pi\n",
    "    value = mst[pk][pi][pj]\n",
    "    same_diagonal  = [ t.cells_by_content(c) for t in mst[pk+1:] ]\n",
    "    above_diagonal = [ t.cells_by_content(c+1) for t in mst[:pk] ]\n",
    "\n",
    "    res = []\n",
    "    for k in range(len(same_diagonal)):\n",
    "        for i,j in same_diagonal[k]:\n",
    "            if value > mst[pk+k+1][i][j]:\n",
    "                res.append( ((pk,(pi,pj)), (pk+k+1,(i,j))) )\n",
    "    for k in range(len(above_diagonal)):\n",
    "        for i,j in above_diagonal[k]:\n",
    "            if value > mst[k][i][j]:\n",
    "                res.append( ((pk,(pi,pj)), (k,(i,j))) )\n",
    "    return res \n",
    "\n",
    "def inversion_pairs(mst):\n",
    "    ''' Return a list of inversion pairs in MultiSkewTableau ``mst``.\n",
    "        \n",
    "        Output:\n",
    "            -- list of tuples that are the pairs. Each element in the tuple is the tuple (k, (i,j))\n",
    "               which corresponds to the cell in row,col (i,j) in shape k.\n",
    "    '''\n",
    "    inv = []\n",
    "    for k in range(len(mst)):\n",
    "        for b in mst[k].cells():\n",
    "            inv += _inversion_pairs_from_position(mst,k,b)\n",
    "    return inv\n",
    "\n",
    "def inversions(mst):\n",
    "    return len(inversion_pairs(mst))\n",
    "\n",
    "def parse_shapes(mu):\n",
    "    ''' Return either list of partitions or list of skew partitions. '''\n",
    "    try: # test if shapes are straight\n",
    "        mu = [Partition(_) for _ in mu]\n",
    "    except ValueError: # shapes must be skew\n",
    "        mu = [SkewPartition(_) for _ in mu]\n",
    "    except TypeError: # shapes are integers\n",
    "        mu = [ Partition([_]) for _ in mu]\n",
    "    except:\n",
    "        raise InputError(\"mu needs to be a shape, a list of shapes, or a list of skew shapes\")\n",
    "    return mu\n",
    "\n",
    "def LLT_inv(mu):\n",
    "    ''' Return inversion LLT polynomial.\n",
    "    \n",
    "        Input:\n",
    "            - ``mu`` -- A shape or list of shapes. If a shape, then computes LLT polynomial\n",
    "              indexed by the rows of ``mu``. If a list of shapes, can be skew shapes or straight shapes.\n",
    "              \n",
    "        Output:\n",
    "            - A symmetric polynomial written in the Schur basis, truncated to partitions with length <= nvar.\n",
    "    '''\n",
    "    mu = parse_shapes(mu)\n",
    "    try:\n",
    "        SSYT = [SemistandardTableaux(Partition(shape), max_entry=nvar) for shape in mu]\n",
    "    except: # mu is list of skew shapes\n",
    "        SSYT = [SemistandardSkewTableaux(list(shape), max_entry=nvar) for shape in mu]\n",
    "    res = 0\n",
    "    for ssyt in product(*SSYT):\n",
    "        mst = MultiSkewTableau(list(ssyt))\n",
    "        res += t^(inversions(mst)) * R.monomial(*pad(mst.weight(), nvar))                   \n",
    "    return to_sym(res, lengths=nvar)"
   ]
  },
  {
   "cell_type": "markdown",
   "metadata": {},
   "source": [
    "# Examples"
   ]
  },
  {
   "cell_type": "code",
   "execution_count": 9,
   "metadata": {},
   "outputs": [
    {
     "data": {
      "text/plain": [
       "t^3*s[3, 1, 1] + t^2*s[3, 2] + (t^2+t)*s[4, 1] + s[5]"
      ]
     },
     "execution_count": 9,
     "metadata": {},
     "output_type": "execute_result"
    }
   ],
   "source": [
    "# Input can be a single shape, which represents a tuple indexed by rows\n",
    "mu = [3,1,1]\n",
    "LLT_inv(mu)"
   ]
  },
  {
   "cell_type": "code",
   "execution_count": 27,
   "metadata": {},
   "outputs": [
    {
     "data": {
      "text/plain": [
       "t^6*s[3, 2, 2, 1] + (t^6+t^5)*s[3, 3, 1, 1] + t^5*s[3, 3, 2] + (t^6+t^5)*s[4, 2, 1, 1] + t^5*s[4, 2, 2] + (t^5+2*t^4)*s[4, 3, 1] + t^3*s[4, 4] + t^4*s[5, 2, 1] + t^3*s[5, 3]"
      ]
     },
     "execution_count": 27,
     "metadata": {},
     "output_type": "execute_result"
    }
   ],
   "source": [
    "# Input can be a list of straight shapes (assumed to be centered at 0 content line)\n",
    "mu = [ [3,2], [1,1], [1] ]\n",
    "LLT_inv(mu)"
   ]
  },
  {
   "cell_type": "code",
   "execution_count": 11,
   "metadata": {},
   "outputs": [
    {
     "data": {
      "text/plain": [
       "t^4*s[2, 2, 1, 1] + t^4*s[2, 2, 2] + t^3*s[3, 1, 1, 1] + 2*t^3*s[3, 2, 1] + t^2*s[3, 3] + t^2*s[4, 1, 1] + t^2*s[4, 2]"
      ]
     },
     "execution_count": 11,
     "metadata": {},
     "output_type": "execute_result"
    }
   ],
   "source": [
    "# Input can be a list of skew shapes\n",
    "mu = [ [[2,1],[0]], [[2,2],[1]] ]\n",
    "LLT_inv(mu)"
   ]
  },
  {
   "cell_type": "markdown",
   "metadata": {},
   "source": [
    "### Built-in methods\n",
    "For reference, here is how you compute LLT polynomials with the built-in methods. In my experience, this can take a long time for big partitions or a long list of shapes, but otherwise is faster than my code."
   ]
  },
  {
   "cell_type": "code",
   "execution_count": 29,
   "metadata": {},
   "outputs": [
    {
     "data": {
      "text/plain": [
       "t^5*s[3, 2, 2, 1, 1] + t^5*s[3, 3, 1, 1, 1] + 2*t^4*s[3, 3, 2, 1] + t^3*s[3, 3, 3] + t^4*s[4, 2, 1, 1, 1] + (t^4+t^3)*s[4, 2, 2, 1] + (t^4+2*t^3)*s[4, 3, 1, 1] + (2*t^3+t^2)*s[4, 3, 2] + (t^3+t^2)*s[4, 4, 1] + (t^3+t^2)*s[5, 2, 1, 1] + t^2*s[5, 2, 2] + (2*t^2+t)*s[5, 3, 1] + t*s[5, 4] + t*s[6, 2, 1] + s[6, 3]"
      ]
     },
     "execution_count": 29,
     "metadata": {},
     "output_type": "execute_result"
    }
   ],
   "source": [
    "# If the input is a list of straight or skew shapes\n",
    "mu = [ [3,2], [2], [1,1] ]\n",
    "G = Sym.llt(len(mu))\n",
    "s(G.cospin(mu))\n"
   ]
  },
  {
   "cell_type": "code",
   "execution_count": null,
   "metadata": {},
   "outputs": [],
   "source": []
  }
 ],
 "metadata": {
  "kernelspec": {
   "display_name": "SageMath 8.3",
   "language": "",
   "name": "sagemath"
  },
  "language_info": {
   "codemirror_mode": {
    "name": "ipython",
    "version": 2
   },
   "file_extension": ".py",
   "mimetype": "text/x-python",
   "name": "python",
   "nbconvert_exporter": "python",
   "pygments_lexer": "ipython2",
   "version": "2.7.15"
  }
 },
 "nbformat": 4,
 "nbformat_minor": 4
}
